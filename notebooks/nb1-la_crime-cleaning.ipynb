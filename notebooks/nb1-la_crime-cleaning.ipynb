{
 "cells": [
  {
   "cell_type": "markdown",
   "id": "1f6a0c8f-f63f-4c29-b9e4-19103af71030",
   "metadata": {},
   "source": [
    "# Crime Statistics in Los Angeles"
   ]
  },
  {
   "cell_type": "markdown",
   "id": "74a50fc2-bd98-4bbe-9c57-b23a2f27c70a",
   "metadata": {},
   "source": [
    "## Introduction"
   ]
  },
  {
   "cell_type": "markdown",
   "id": "050e109a-412d-4ded-a4e7-c6480e05f08c",
   "metadata": {},
   "source": [
    "![Los Angeles skyline](./images/la_skyline.jpg)\n",
    "\n",
    "Los Angeles, California 😎. The City of Angels. Tinseltown. The Entertainment Capital of the World!\n",
    "\n",
    "Known for its pleasant climate 🌞, palm trees 🌴, expansive coastline 🏖️, and Hollywood ⭐, Los Angeles has also produced some of the most iconic films and music. However, as with any densely populated city, it is not without its challenges, and crime rates can be considerable 🚨. Crime is a prominent issue that requires attention and strategic action.\n",
    "\n",
    "The Los Angeles Police Department (LAPD) 👮‍♂️ is focusing on the analysis of crime data to identify patterns in criminal behaviour. The insights from this analysis will be crucial for optimising the allocation of resources across various districts to effectively address crime.\n",
    "\n"
   ]
  },
  {
   "cell_type": "markdown",
   "id": "3e11d404-8c79-4c69-a34a-355bf2dd80c5",
   "metadata": {},
   "source": [
    "## Setting up the Environment\n",
    "\n",
    "In this environment, several essential packages are imported to support the data analysis workflow:\n",
    "\n",
    "- **pandas** and **numpy** are used for data manipulation and numerical operations.\n",
    "- **matplotlib** and **seaborn** are used for data visualisation, enabling the creation of various plots.\n",
    "- **os** is for interacting with the operating system, such as working with file paths.\n",
    "- **la_crime** is a custom package used for handling crime-related datasets and analysis.\n",
    "\n",
    "To ensure the custom package `la_crime` is correctly installed in editable mode, run the following command in a Terminal:\n",
    "\n",
    "```pip install -e .```\n",
    "\n",
    "This will install the package in editable mode, allowing you to make changes to the code without needing to reinstall the package."
   ]
  },
  {
   "cell_type": "code",
   "execution_count": 22,
   "id": "9344ecf8-6956-4b9e-a228-09f7f6f7872c",
   "metadata": {
    "executionCancelledAt": null,
    "executionTime": 413,
    "lastExecutedAt": 1712065925214,
    "lastScheduledRunId": null,
    "lastSuccessfullyExecutedCode": "# Re-run this cell\n# Import required libraries\nimport pandas as pd\nimport numpy as np\nimport matplotlib.pyplot as plt\nimport seaborn as sns\ncrimes = pd.read_csv(\"crimes.csv\", parse_dates=[\"Date Rptd\", \"DATE OCC\"], dtype={\"TIME OCC\": str})\ncrimes.head()",
    "outputsMetadata": {
     "0": {
      "height": 550,
      "tableState": {
       "quickFilterText": ""
      },
      "type": "dataFrame"
     }
    }
   },
   "outputs": [],
   "source": [
    "# Import required libraries\n",
    "import pandas as pd\n",
    "import numpy as np\n",
    "import matplotlib.pyplot as plt\n",
    "import seaborn as sns\n",
    "import os\n",
    "\n",
    "import la_crime\n",
    "from la_crime.config import RAW_DATA_DIR, INTERIM_DATA_DIR, CLEANED_DATA_DIR\n",
    "import la_crime.custom_funcs as cf"
   ]
  },
  {
   "cell_type": "markdown",
   "id": "49394fda-08c9-496e-acca-26101e5b739e",
   "metadata": {},
   "source": [
    "## The Data"
   ]
  },
  {
   "cell_type": "markdown",
   "id": "354576eb-831e-4bec-8896-0f7d69eddd1b",
   "metadata": {},
   "source": [
    "### `'crimes.csv'`"
   ]
  },
  {
   "cell_type": "markdown",
   "id": "58131b41-af07-4109-9e53-8158700055cc",
   "metadata": {},
   "source": [
    "A dataset has been provided ('./d0-raw/crimes.csv') for the analysis. Below is a summary and preview.\n",
    "\n",
    "This dataset is a modified version of the original data, which is publicly available from [Los Angeles Open Data](https://data.lacity.org/).\n",
    "\n",
    "| Column      | Description                                                                                       |\n",
    "|-------------|---------------------------------------------------------------------------------------------------|\n",
    "| `'DR_NO'`   | Division of Records Number: The official file number, composed of a 2-digit year, area ID, and 5 digits. |\n",
    "| `'Date Rptd'` | Date reported - MM/DD/YYYY.                                                                       |\n",
    "| `'DATE OCC'` | Date of occurrence - MM/DD/YYYY.                                                                  |\n",
    "| `'TIME OCC'` | Time of occurrence in 24-hour military format.                                                    |\n",
    "| `'AREA NAME'` | The 21 geographic areas or patrol divisions are each given a name that references a landmark or the surrounding community they serve. For example, the 77th Street Division is located at the intersection of South Broadway and 77th Street, serving neighbourhoods in South Los Angeles. |\n",
    "| `'Crm Cd Desc'` | Description of the crime committed.                                                              |\n",
    "| `'Vict Age'` | The age of the victim in years.                                                                   |\n",
    "| `'Vict Sex'` | The sex of the victim: `F`: Female, `M`: Male, `X`: Unknown.                                       |\n",
    "| `'Vict Descent'` | The descent of the victim, with options as follows:<ul><li>`A` - Other Asian</li><li>`B` - Black</li><li>`C` - Chinese</li><li>`D` - Cambodian</li><li>`F` - Filipino</li><li>`G` - Guamanian</li><li>`H` - Hispanic/Latino/Mexican</li><li>`I` - American Indian/Alaskan Native</li><li>`J` - Japanese</li><li>`K` - Korean</li><li>`L` - Laotian</li><li>`O` - Other</li><li>`P` - Pacific Islander</li><li>`S` - Samoan</li><li>`U` - Hawaiian</li><li>`V` - Vietnamese</li><li>`W` - White</li><li>`X` - Unknown</li><li>`Z` - Asian Indian</li></ul> |\n",
    "| `'Weapon Desc'` | A description of the weapon used, if applicable.                                                  |\n",
    "| `'Status Desc'` | The status of the crime.                                                                          |\n",
    "| `'LOCATION'` | The street address where the crime occurred.                                                      |"
   ]
  },
  {
   "cell_type": "code",
   "execution_count": 2,
   "id": "c9bffc2f-c9fb-4e7b-84d0-ee958fe8b9e0",
   "metadata": {
    "executionCancelledAt": null,
    "executionTime": 413,
    "lastExecutedAt": 1712065925214,
    "lastScheduledRunId": null,
    "lastSuccessfullyExecutedCode": "# Re-run this cell\n# Import required libraries\nimport pandas as pd\nimport numpy as np\nimport matplotlib.pyplot as plt\nimport seaborn as sns\ncrimes = pd.read_csv(\"crimes.csv\", parse_dates=[\"Date Rptd\", \"DATE OCC\"], dtype={\"TIME OCC\": str})\ncrimes.head()",
    "outputsMetadata": {
     "0": {
      "height": 550,
      "tableState": {
       "quickFilterText": ""
      },
      "type": "dataFrame"
     }
    }
   },
   "outputs": [
    {
     "data": {
      "text/html": [
       "<div>\n",
       "<style scoped>\n",
       "    .dataframe tbody tr th:only-of-type {\n",
       "        vertical-align: middle;\n",
       "    }\n",
       "\n",
       "    .dataframe tbody tr th {\n",
       "        vertical-align: top;\n",
       "    }\n",
       "\n",
       "    .dataframe thead th {\n",
       "        text-align: right;\n",
       "    }\n",
       "</style>\n",
       "<table border=\"1\" class=\"dataframe\">\n",
       "  <thead>\n",
       "    <tr style=\"text-align: right;\">\n",
       "      <th></th>\n",
       "      <th>DR_NO</th>\n",
       "      <th>Date Rptd</th>\n",
       "      <th>DATE OCC</th>\n",
       "      <th>TIME OCC</th>\n",
       "      <th>AREA NAME</th>\n",
       "      <th>Crm Cd Desc</th>\n",
       "      <th>Vict Age</th>\n",
       "      <th>Vict Sex</th>\n",
       "      <th>Vict Descent</th>\n",
       "      <th>Weapon Desc</th>\n",
       "      <th>Status Desc</th>\n",
       "      <th>LOCATION</th>\n",
       "    </tr>\n",
       "  </thead>\n",
       "  <tbody>\n",
       "    <tr>\n",
       "      <th>0</th>\n",
       "      <td>220314085</td>\n",
       "      <td>2022-07-22</td>\n",
       "      <td>2020-05-12</td>\n",
       "      <td>1110</td>\n",
       "      <td>Southwest</td>\n",
       "      <td>THEFT OF IDENTITY</td>\n",
       "      <td>27</td>\n",
       "      <td>F</td>\n",
       "      <td>B</td>\n",
       "      <td>NaN</td>\n",
       "      <td>Invest Cont</td>\n",
       "      <td>2500 S  SYCAMORE                     AV</td>\n",
       "    </tr>\n",
       "    <tr>\n",
       "      <th>1</th>\n",
       "      <td>222013040</td>\n",
       "      <td>2022-08-06</td>\n",
       "      <td>2020-06-04</td>\n",
       "      <td>1620</td>\n",
       "      <td>Olympic</td>\n",
       "      <td>THEFT OF IDENTITY</td>\n",
       "      <td>60</td>\n",
       "      <td>M</td>\n",
       "      <td>H</td>\n",
       "      <td>NaN</td>\n",
       "      <td>Invest Cont</td>\n",
       "      <td>3300    SAN MARINO                   ST</td>\n",
       "    </tr>\n",
       "    <tr>\n",
       "      <th>2</th>\n",
       "      <td>220614831</td>\n",
       "      <td>2022-08-18</td>\n",
       "      <td>2020-08-17</td>\n",
       "      <td>1200</td>\n",
       "      <td>Hollywood</td>\n",
       "      <td>THEFT OF IDENTITY</td>\n",
       "      <td>28</td>\n",
       "      <td>M</td>\n",
       "      <td>H</td>\n",
       "      <td>NaN</td>\n",
       "      <td>Invest Cont</td>\n",
       "      <td>1900    TRANSIENT</td>\n",
       "    </tr>\n",
       "    <tr>\n",
       "      <th>3</th>\n",
       "      <td>231207725</td>\n",
       "      <td>2023-02-27</td>\n",
       "      <td>2020-01-27</td>\n",
       "      <td>0635</td>\n",
       "      <td>77th Street</td>\n",
       "      <td>THEFT OF IDENTITY</td>\n",
       "      <td>37</td>\n",
       "      <td>M</td>\n",
       "      <td>H</td>\n",
       "      <td>NaN</td>\n",
       "      <td>Invest Cont</td>\n",
       "      <td>6200    4TH                          AV</td>\n",
       "    </tr>\n",
       "    <tr>\n",
       "      <th>4</th>\n",
       "      <td>220213256</td>\n",
       "      <td>2022-07-14</td>\n",
       "      <td>2020-07-14</td>\n",
       "      <td>0900</td>\n",
       "      <td>Rampart</td>\n",
       "      <td>THEFT OF IDENTITY</td>\n",
       "      <td>79</td>\n",
       "      <td>M</td>\n",
       "      <td>B</td>\n",
       "      <td>NaN</td>\n",
       "      <td>Invest Cont</td>\n",
       "      <td>1200 W  7TH                          ST</td>\n",
       "    </tr>\n",
       "  </tbody>\n",
       "</table>\n",
       "</div>"
      ],
      "text/plain": [
       "       DR_NO  Date Rptd   DATE OCC TIME OCC    AREA NAME        Crm Cd Desc  \\\n",
       "0  220314085 2022-07-22 2020-05-12     1110    Southwest  THEFT OF IDENTITY   \n",
       "1  222013040 2022-08-06 2020-06-04     1620      Olympic  THEFT OF IDENTITY   \n",
       "2  220614831 2022-08-18 2020-08-17     1200    Hollywood  THEFT OF IDENTITY   \n",
       "3  231207725 2023-02-27 2020-01-27     0635  77th Street  THEFT OF IDENTITY   \n",
       "4  220213256 2022-07-14 2020-07-14     0900      Rampart  THEFT OF IDENTITY   \n",
       "\n",
       "   Vict Age Vict Sex Vict Descent Weapon Desc  Status Desc  \\\n",
       "0        27        F            B         NaN  Invest Cont   \n",
       "1        60        M            H         NaN  Invest Cont   \n",
       "2        28        M            H         NaN  Invest Cont   \n",
       "3        37        M            H         NaN  Invest Cont   \n",
       "4        79        M            B         NaN  Invest Cont   \n",
       "\n",
       "                                  LOCATION  \n",
       "0  2500 S  SYCAMORE                     AV  \n",
       "1  3300    SAN MARINO                   ST  \n",
       "2                        1900    TRANSIENT  \n",
       "3  6200    4TH                          AV  \n",
       "4  1200 W  7TH                          ST  "
      ]
     },
     "execution_count": 2,
     "metadata": {},
     "output_type": "execute_result"
    }
   ],
   "source": [
    "csv_file = os.path.join(RAW_DATA_DIR, 'crimes.csv')\n",
    "crimes = pd.read_csv(csv_file, parse_dates=[\"Date Rptd\", \"DATE OCC\"], dtype={\"TIME OCC\": str})\n",
    "crimes.head()"
   ]
  },
  {
   "cell_type": "code",
   "execution_count": 3,
   "id": "6ae4a617-2ece-405f-8a94-f31ff0da4c41",
   "metadata": {},
   "outputs": [
    {
     "name": "stdout",
     "output_type": "stream",
     "text": [
      "<class 'pandas.core.frame.DataFrame'>\n",
      "RangeIndex: 185715 entries, 0 to 185714\n",
      "Data columns (total 12 columns):\n",
      " #   Column        Non-Null Count   Dtype         \n",
      "---  ------        --------------   -----         \n",
      " 0   DR_NO         185715 non-null  int64         \n",
      " 1   Date Rptd     185715 non-null  datetime64[ns]\n",
      " 2   DATE OCC      185715 non-null  datetime64[ns]\n",
      " 3   TIME OCC      185715 non-null  object        \n",
      " 4   AREA NAME     185715 non-null  object        \n",
      " 5   Crm Cd Desc   185715 non-null  object        \n",
      " 6   Vict Age      185715 non-null  int64         \n",
      " 7   Vict Sex      185704 non-null  object        \n",
      " 8   Vict Descent  185705 non-null  object        \n",
      " 9   Weapon Desc   73502 non-null   object        \n",
      " 10  Status Desc   185715 non-null  object        \n",
      " 11  LOCATION      185715 non-null  object        \n",
      "dtypes: datetime64[ns](2), int64(2), object(8)\n",
      "memory usage: 17.0+ MB\n"
     ]
    }
   ],
   "source": [
    "crimes.info()"
   ]
  },
  {
   "cell_type": "markdown",
   "id": "7a959ba0-bee4-4615-b0d3-89c1737db682",
   "metadata": {
    "jp-MarkdownHeadingCollapsed": true
   },
   "source": [
    "### `'API'`"
   ]
  },
  {
   "cell_type": "markdown",
   "id": "95f658fb-7e35-4079-b63a-889d73465ff1",
   "metadata": {},
   "source": [
    "Similar to the process of importing the data from the `csv` file, the data directly from the Los Angeles Open Data `API` was used. [Los Angeles Crime Data API](https://dev.socrata.com/foundry/data.lacity.org/63jg-8b9z).\n",
    "\n",
    "This dataset is a subset of the original Los Angeles Open Data, which contains over 2.5 million entries. The dataset used here is a 200,000-record sample from the original database. It is recommended to use the provided CSV for more comprehensive analysis.\n",
    "    \n",
    "> **NOTE: The code for this section has been deactivated in order to avoid losing resources.**                                            \n",
    "\n",
    "| Column          | Description                                                                                         |\n",
    "|-----------------|-----------------------------------------------------------------------------------------------------|\n",
    "| `'dr_no'`       | Division of Records Number: The official file number, composed of a 2-digit year, area ID, and 5 digits. |\n",
    "| `'date_rptd'`   | Date reported - MM/DD/YYYY.                                                                         |\n",
    "| `'date_occ'`    | Date of occurrence - MM/DD/YYYY.                                                                    |\n",
    "| `'time_occ'`    | Time of occurrence in 24-hour military format.                                                      |\n",
    "| `'area_name'`   | The 21 geographic areas or patrol divisions are each given a name referencing a landmark or the surrounding community they serve. For example, the 77th Street Division is located at the intersection of South Broadway and 77th Street, serving neighbourhoods in South Los Angeles. |\n",
    "| `'crm_cd_desc'` | Description of the crime committed.                                                                  |\n",
    "| `'vict_age'`    | The age of the victim in years.                                                                     |\n",
    "| `'vict_sex'`    | The sex of the victim: `F`: Female, `M`: Male, `X`: Unknown.                                         |\n",
    "| `'vict_descent'`| The descent of the victim, with options as follows:<ul><li>`A` - Other Asian</li><li>`B` - Black</li><li>`C` - Chinese</li><li>`D` - Cambodian</li><li>`F` - Filipino</li><li>`G` - Guamanian</li><li>`H` - Hispanic/Latino/Mexican</li><li>`I` - American Indian/Alaskan Native</li><li>`J` - Japanese</li><li>`K` - Korean</li><li>`L` - Laotian</li><li>`O` - Other</li><li>`P` - Pacific Islander</li><li>`S` - Samoan</li><li>`U` - Hawaiian</li><li>`V` - Vietnamese</li><li>`W` - White</li><li>`X` - Unknown</li><li>`Z` - Asian Indian</li></ul> |\n",
    "| `'weapon_desc'` | A description of the weapon used, if applicable.                                                    |\n",
    "| `'status_desc'` | The status of the crime.                                                                            |\n",
    "| `'location'`    | The street address where the crime occurred.                                                        |\n",
    "| `'lat'`         | Latitude                                                                                           |\n",
    "| `'lon'`         | Longitude                                                                                          |\n"
   ]
  },
  {
   "cell_type": "raw",
   "id": "aa773c42-f906-4b70-933a-f88fe32c0e4a",
   "metadata": {},
   "source": [
    "import requests\n",
    "\n",
    "# Define the API endpoint taken from the LA Open Source \n",
    "url = \"https://data.lacity.org/resource/63jg-8b9z.json\"\n",
    "\n",
    "# Initialize an empty list to hold all the records\n",
    "all_data = []\n",
    "\n",
    "# Start with page 1\n",
    "page = 1\n",
    "target_records = 200000  # Set the target number of records\n",
    "while len(all_data) < target_records:\n",
    "    # Define parameters with pagination\n",
    "    params = {\n",
    "        \"$limit\": 1000,  # Max rows per request\n",
    "        \"$offset\": (page - 1) * 1000  # Offset for pagination\n",
    "    }\n",
    "    \n",
    "    # Send the GET request with pagination parameters\n",
    "    response = requests.get(url, params=params)\n",
    "    \n",
    "    # Check if the request was successful\n",
    "    if response.status_code == 200:\n",
    "        data = response.json()  # Get the response as JSON\n",
    "        \n",
    "        # If no data is returned, stop the loop\n",
    "        if len(data) == 0:\n",
    "            break\n",
    "        \n",
    "        all_data.extend(data)  # Add the current page's data to the list\n",
    "        \n",
    "        page += 1  # Move to the next page\n",
    "        \n",
    "        # If we've already got the target number of records, break early\n",
    "        if len(all_data) >= target_records:\n",
    "            break\n",
    "    else:\n",
    "        print(f\"Failed to retrieve the data. Status code: {response.status_code}\")\n",
    "        break\n",
    "\n",
    "# Ensure we don't have more than the required records\n",
    "all_data = all_data[:target_records]\n",
    "\n",
    "# Convert the data to a DataFrame\n",
    "df_api = pd.DataFrame(all_data)\n",
    "\n",
    "print(f\"Data successfully retrieved with {len(df_api)} records.\")"
   ]
  },
  {
   "cell_type": "raw",
   "id": "b6265736-e5d7-4acd-8e48-c617c35caaa5",
   "metadata": {},
   "source": [
    "# Get only the data required\n",
    "crimes_api = df_api[[\n",
    "    'dr_no', 'date_rptd', 'date_occ', 'time_occ', 'area_name', \n",
    "    'crm_cd_desc', 'vict_age', 'vict_sex', 'vict_descent', \n",
    "    'weapon_desc', 'status_desc', 'location', 'lat', 'lon'\n",
    "]]"
   ]
  },
  {
   "cell_type": "raw",
   "id": "901b1f81-a932-492c-9230-566924c5734f",
   "metadata": {},
   "source": [
    "crimes_api.sample(5)\n",
    "crimes_api.info()"
   ]
  },
  {
   "cell_type": "markdown",
   "id": "f9be0969-bb7c-4a8a-96f9-277133b996f8",
   "metadata": {},
   "source": [
    "### Using `'CSV'` or `'API'`"
   ]
  },
  {
   "cell_type": "markdown",
   "id": "781a0830-141f-4368-887e-979daa1de8cd",
   "metadata": {},
   "source": [
    "Select one of the two datasets: `crimes` for the CSV file or `crimes_api` for the data fetched from the API, depending on the chosen resources."
   ]
  },
  {
   "cell_type": "code",
   "execution_count": 4,
   "id": "cea632bd-6147-4b5b-9658-c7e33682c7f9",
   "metadata": {},
   "outputs": [],
   "source": [
    "# Copy the 'crimes' dataset (CSV data) into the DataFrame\n",
    "df = crimes.copy() \n",
    "\n",
    "# Alternatively, if using the API data, copy 'crimes_api' into the DataFrame\n",
    "# df = crimes_api.copy() "
   ]
  },
  {
   "cell_type": "markdown",
   "id": "868d9500-d597-4436-ac5a-1b6fc0a69afd",
   "metadata": {},
   "source": [
    "## Data Cleaning"
   ]
  },
  {
   "cell_type": "code",
   "execution_count": 5,
   "id": "e34b7c58-b890-4907-bca9-fd6a3cb71f7a",
   "metadata": {},
   "outputs": [
    {
     "name": "stdout",
     "output_type": "stream",
     "text": [
      "<class 'pandas.core.frame.DataFrame'>\n",
      "RangeIndex: 185715 entries, 0 to 185714\n",
      "Data columns (total 12 columns):\n",
      " #   Column        Non-Null Count   Dtype         \n",
      "---  ------        --------------   -----         \n",
      " 0   DR_NO         185715 non-null  int64         \n",
      " 1   Date Rptd     185715 non-null  datetime64[ns]\n",
      " 2   DATE OCC      185715 non-null  datetime64[ns]\n",
      " 3   TIME OCC      185715 non-null  object        \n",
      " 4   AREA NAME     185715 non-null  object        \n",
      " 5   Crm Cd Desc   185715 non-null  object        \n",
      " 6   Vict Age      185715 non-null  int64         \n",
      " 7   Vict Sex      185704 non-null  object        \n",
      " 8   Vict Descent  185705 non-null  object        \n",
      " 9   Weapon Desc   73502 non-null   object        \n",
      " 10  Status Desc   185715 non-null  object        \n",
      " 11  LOCATION      185715 non-null  object        \n",
      "dtypes: datetime64[ns](2), int64(2), object(8)\n",
      "memory usage: 17.0+ MB\n"
     ]
    }
   ],
   "source": [
    "df.info()"
   ]
  },
  {
   "cell_type": "markdown",
   "id": "d52093b8-8d65-4537-9e02-a4df35d78ae8",
   "metadata": {},
   "source": [
    "### Numeric values"
   ]
  },
  {
   "cell_type": "markdown",
   "id": "a6f48de0-0e46-4413-9fcd-773a572598e9",
   "metadata": {},
   "source": [
    "In the raw data there are only **four** numeric values, **Two** integers and **two* datetime."
   ]
  },
  {
   "cell_type": "code",
   "execution_count": 6,
   "id": "9b7ca872-892d-40a7-9c66-354dfba21c88",
   "metadata": {},
   "outputs": [
    {
     "data": {
      "text/html": [
       "<div>\n",
       "<style scoped>\n",
       "    .dataframe tbody tr th:only-of-type {\n",
       "        vertical-align: middle;\n",
       "    }\n",
       "\n",
       "    .dataframe tbody tr th {\n",
       "        vertical-align: top;\n",
       "    }\n",
       "\n",
       "    .dataframe thead th {\n",
       "        text-align: right;\n",
       "    }\n",
       "</style>\n",
       "<table border=\"1\" class=\"dataframe\">\n",
       "  <thead>\n",
       "    <tr style=\"text-align: right;\">\n",
       "      <th></th>\n",
       "      <th>DR_NO</th>\n",
       "      <th>Date Rptd</th>\n",
       "      <th>DATE OCC</th>\n",
       "      <th>Vict Age</th>\n",
       "    </tr>\n",
       "  </thead>\n",
       "  <tbody>\n",
       "    <tr>\n",
       "      <th>count</th>\n",
       "      <td>1.857150e+05</td>\n",
       "      <td>185715</td>\n",
       "      <td>185715</td>\n",
       "      <td>185715.000000</td>\n",
       "    </tr>\n",
       "    <tr>\n",
       "      <th>mean</th>\n",
       "      <td>2.255781e+08</td>\n",
       "      <td>2022-12-12 01:50:25.325902848</td>\n",
       "      <td>2022-11-27 19:04:55.711170560</td>\n",
       "      <td>39.999257</td>\n",
       "    </tr>\n",
       "    <tr>\n",
       "      <th>min</th>\n",
       "      <td>2.009072e+08</td>\n",
       "      <td>2022-06-01 00:00:00</td>\n",
       "      <td>2020-01-01 00:00:00</td>\n",
       "      <td>2.000000</td>\n",
       "    </tr>\n",
       "    <tr>\n",
       "      <th>25%</th>\n",
       "      <td>2.210108e+08</td>\n",
       "      <td>2022-09-04 00:00:00</td>\n",
       "      <td>2022-08-25 00:00:00</td>\n",
       "      <td>28.000000</td>\n",
       "    </tr>\n",
       "    <tr>\n",
       "      <th>50%</th>\n",
       "      <td>2.220114e+08</td>\n",
       "      <td>2022-12-10 00:00:00</td>\n",
       "      <td>2022-12-02 00:00:00</td>\n",
       "      <td>37.000000</td>\n",
       "    </tr>\n",
       "    <tr>\n",
       "      <th>75%</th>\n",
       "      <td>2.310044e+08</td>\n",
       "      <td>2023-03-20 00:00:00</td>\n",
       "      <td>2023-03-12 00:00:00</td>\n",
       "      <td>50.000000</td>\n",
       "    </tr>\n",
       "    <tr>\n",
       "      <th>max</th>\n",
       "      <td>2.399097e+08</td>\n",
       "      <td>2023-07-03 00:00:00</td>\n",
       "      <td>2023-07-03 00:00:00</td>\n",
       "      <td>99.000000</td>\n",
       "    </tr>\n",
       "    <tr>\n",
       "      <th>std</th>\n",
       "      <td>5.017438e+06</td>\n",
       "      <td>NaN</td>\n",
       "      <td>NaN</td>\n",
       "      <td>15.450227</td>\n",
       "    </tr>\n",
       "  </tbody>\n",
       "</table>\n",
       "</div>"
      ],
      "text/plain": [
       "              DR_NO                      Date Rptd  \\\n",
       "count  1.857150e+05                         185715   \n",
       "mean   2.255781e+08  2022-12-12 01:50:25.325902848   \n",
       "min    2.009072e+08            2022-06-01 00:00:00   \n",
       "25%    2.210108e+08            2022-09-04 00:00:00   \n",
       "50%    2.220114e+08            2022-12-10 00:00:00   \n",
       "75%    2.310044e+08            2023-03-20 00:00:00   \n",
       "max    2.399097e+08            2023-07-03 00:00:00   \n",
       "std    5.017438e+06                            NaN   \n",
       "\n",
       "                            DATE OCC       Vict Age  \n",
       "count                         185715  185715.000000  \n",
       "mean   2022-11-27 19:04:55.711170560      39.999257  \n",
       "min              2020-01-01 00:00:00       2.000000  \n",
       "25%              2022-08-25 00:00:00      28.000000  \n",
       "50%              2022-12-02 00:00:00      37.000000  \n",
       "75%              2023-03-12 00:00:00      50.000000  \n",
       "max              2023-07-03 00:00:00      99.000000  \n",
       "std                              NaN      15.450227  "
      ]
     },
     "execution_count": 6,
     "metadata": {},
     "output_type": "execute_result"
    }
   ],
   "source": [
    "df.describe()"
   ]
  },
  {
   "cell_type": "code",
   "execution_count": 7,
   "id": "eb39ce1e-5960-4ec8-a644-fd3e4c40e439",
   "metadata": {},
   "outputs": [
    {
     "data": {
      "image/png": "[encoded data removed]",
      "text/plain": [
       "<Figure size 1000x600 with 1 Axes>"
      ]
     },
     "metadata": {},
     "output_type": "display_data"
    }
   ],
   "source": [
    "# Plot the distribution of 'Vict Age'\n",
    "plt.figure(figsize=(10, 6))\n",
    "\n",
    "# Histogram with Seaborn\n",
    "sns.histplot(df['Vict Age'], kde=True, bins=25, color='red')\n",
    "\n",
    "# Adding titles and labels\n",
    "plt.title('Distribution of Victim Age', fontsize=16)\n",
    "plt.xlabel('Victim Age', fontsize=12)\n",
    "plt.ylabel('Frequency', fontsize=12)\n",
    "\n",
    "# Show the plot\n",
    "plt.show()\n"
   ]
  },
  {
   "cell_type": "markdown",
   "id": "b8d02f89-9a39-487f-9765-64bdebfd2055",
   "metadata": {},
   "source": [
    "Next, let us create a new column named `'victim_ages'` to categorise the victim ages into predefined bins."
   ]
  },
  {
   "cell_type": "code",
   "execution_count": 8,
   "id": "97e08b63-98b6-4911-ae9c-75e511c41b81",
   "metadata": {},
   "outputs": [
    {
     "name": "stdout",
     "output_type": "stream",
     "text": [
      "   Vict Age victim_ages\n",
      "0        27       26-34\n",
      "1        60       55-64\n",
      "2        28       26-34\n",
      "3        37       35-44\n",
      "4        79         65+\n"
     ]
    }
   ],
   "source": [
    "# Define age bins and labels\n",
    "age_bins = [0, 17, 25, 34, 44, 54, 64, float('inf')]\n",
    "age_labels = ['0-17', '18-25', '26-34', '35-44', '45-54', '55-64', '65+']\n",
    "\n",
    "# Create a new column 'Age Category' by categorizing 'Vict Age'\n",
    "df['victim_ages'] = pd.cut(df['Vict Age'], bins=age_bins, labels=age_labels, right=True)\n",
    "\n",
    "# Convert 'Age Category' to ordered categorical type\n",
    "age_order = pd.CategoricalDtype(categories=age_labels, ordered=True)\n",
    "df['victim_ages'] = df['victim_ages'].astype(age_order)\n",
    "\n",
    "# Display the first few rows to verify the results\n",
    "print(df[['Vict Age', 'victim_ages']].head())\n"
   ]
  },
  {
   "cell_type": "code",
   "execution_count": 9,
   "id": "bbd6ee55-4ea0-406c-9bc9-d6852f059d7f",
   "metadata": {},
   "outputs": [
    {
     "data": {
      "image/png": "[encoded data removed]",
      "text/plain": [
       "<Figure size 1000x600 with 1 Axes>"
      ]
     },
     "metadata": {},
     "output_type": "display_data"
    }
   ],
   "source": [
    "# Plot the distribution of the 'victim_ages' bins\n",
    "plt.figure(figsize=(10, 6))\n",
    "\n",
    "# Countplot to show the distribution of the 'victim_ages' categories\n",
    "sns.countplot(data=df, x='victim_ages', \n",
    "              hue='victim_ages', \n",
    "              palette='viridis', \n",
    "              #legend=False\n",
    "             )\n",
    "\n",
    "# Adding titles and labels\n",
    "plt.title('Distribution of Victim Ages by Category', fontsize=16)\n",
    "plt.xlabel('Age Categories', fontsize=12)\n",
    "plt.ylabel('Frequency', fontsize=12)\n",
    "\n",
    "# Show the plot\n",
    "plt.show()\n"
   ]
  },
  {
   "cell_type": "markdown",
   "id": "b4d79295-4fcd-48c2-8fe4-02ea903107d9",
   "metadata": {},
   "source": [
    "### Categorical values"
   ]
  },
  {
   "cell_type": "markdown",
   "id": "5aacfdd5-705a-4f8f-8752-8c66ecc62030",
   "metadata": {},
   "source": [
    "#### 'DR_NO'"
   ]
  },
  {
   "cell_type": "markdown",
   "id": "5b465b73-0d9c-45bc-b5e2-affe7106b6e7",
   "metadata": {},
   "source": [
    "The `'DR_NO'` serves as an index and does not represent a numeric value."
   ]
  },
  {
   "cell_type": "code",
   "execution_count": 10,
   "id": "22ca21b1-4f5c-4b6e-bc3b-bd0388b5c0c5",
   "metadata": {},
   "outputs": [],
   "source": [
    "# 'DR_NO' type is changed to string.\n",
    "df['DR_NO']=df['DR_NO'].astype('str') "
   ]
  },
  {
   "cell_type": "code",
   "execution_count": 11,
   "id": "72ac4563-54f6-4c17-a61a-afe2774c0370",
   "metadata": {},
   "outputs": [
    {
     "data": {
      "text/html": [
       "<div>\n",
       "<style scoped>\n",
       "    .dataframe tbody tr th:only-of-type {\n",
       "        vertical-align: middle;\n",
       "    }\n",
       "\n",
       "    .dataframe tbody tr th {\n",
       "        vertical-align: top;\n",
       "    }\n",
       "\n",
       "    .dataframe thead th {\n",
       "        text-align: right;\n",
       "    }\n",
       "</style>\n",
       "<table border=\"1\" class=\"dataframe\">\n",
       "  <thead>\n",
       "    <tr style=\"text-align: right;\">\n",
       "      <th></th>\n",
       "      <th>DR_NO</th>\n",
       "      <th>TIME OCC</th>\n",
       "      <th>AREA NAME</th>\n",
       "      <th>Crm Cd Desc</th>\n",
       "      <th>Vict Sex</th>\n",
       "      <th>Vict Descent</th>\n",
       "      <th>Weapon Desc</th>\n",
       "      <th>Status Desc</th>\n",
       "      <th>LOCATION</th>\n",
       "      <th>victim_ages</th>\n",
       "    </tr>\n",
       "  </thead>\n",
       "  <tbody>\n",
       "    <tr>\n",
       "      <th>count</th>\n",
       "      <td>185715</td>\n",
       "      <td>185715</td>\n",
       "      <td>185715</td>\n",
       "      <td>185715</td>\n",
       "      <td>185704</td>\n",
       "      <td>185705</td>\n",
       "      <td>73502</td>\n",
       "      <td>185715</td>\n",
       "      <td>185715</td>\n",
       "      <td>185715</td>\n",
       "    </tr>\n",
       "    <tr>\n",
       "      <th>unique</th>\n",
       "      <td>185715</td>\n",
       "      <td>1439</td>\n",
       "      <td>21</td>\n",
       "      <td>104</td>\n",
       "      <td>4</td>\n",
       "      <td>20</td>\n",
       "      <td>74</td>\n",
       "      <td>6</td>\n",
       "      <td>39286</td>\n",
       "      <td>7</td>\n",
       "    </tr>\n",
       "    <tr>\n",
       "      <th>top</th>\n",
       "      <td>230906458</td>\n",
       "      <td>1200</td>\n",
       "      <td>Central</td>\n",
       "      <td>THEFT OF IDENTITY</td>\n",
       "      <td>M</td>\n",
       "      <td>H</td>\n",
       "      <td>STRONG-ARM (HANDS, FIST, FEET OR BODILY FORCE)</td>\n",
       "      <td>Invest Cont</td>\n",
       "      <td>600 S  BROADWAY</td>\n",
       "      <td>26-34</td>\n",
       "    </tr>\n",
       "    <tr>\n",
       "      <th>freq</th>\n",
       "      <td>1</td>\n",
       "      <td>6462</td>\n",
       "      <td>14944</td>\n",
       "      <td>22670</td>\n",
       "      <td>93008</td>\n",
       "      <td>74128</td>\n",
       "      <td>39889</td>\n",
       "      <td>153790</td>\n",
       "      <td>358</td>\n",
       "      <td>47470</td>\n",
       "    </tr>\n",
       "  </tbody>\n",
       "</table>\n",
       "</div>"
      ],
      "text/plain": [
       "            DR_NO TIME OCC AREA NAME        Crm Cd Desc Vict Sex Vict Descent  \\\n",
       "count      185715   185715    185715             185715   185704       185705   \n",
       "unique     185715     1439        21                104        4           20   \n",
       "top     230906458     1200   Central  THEFT OF IDENTITY        M            H   \n",
       "freq            1     6462     14944              22670    93008        74128   \n",
       "\n",
       "                                           Weapon Desc  Status Desc  \\\n",
       "count                                            73502       185715   \n",
       "unique                                              74            6   \n",
       "top     STRONG-ARM (HANDS, FIST, FEET OR BODILY FORCE)  Invest Cont   \n",
       "freq                                             39889       153790   \n",
       "\n",
       "               LOCATION victim_ages  \n",
       "count            185715      185715  \n",
       "unique            39286           7  \n",
       "top     600 S  BROADWAY       26-34  \n",
       "freq                358       47470  "
      ]
     },
     "execution_count": 11,
     "metadata": {},
     "output_type": "execute_result"
    }
   ],
   "source": [
    "df.describe(include=['category','object'])"
   ]
  },
  {
   "cell_type": "code",
   "execution_count": 12,
   "id": "bb024fe1-7f3f-4465-8c75-601ad0fc7ef9",
   "metadata": {},
   "outputs": [],
   "source": [
    "df['TIME OCC'] = pd.to_datetime(df['TIME OCC'], format='%H%M')"
   ]
  },
  {
   "cell_type": "markdown",
   "id": "319e4d7e-bd70-43c6-87aa-2715902fd4c8",
   "metadata": {},
   "source": [
    "#### 'AREA NAME'"
   ]
  },
  {
   "cell_type": "markdown",
   "id": "6d5172a4-819d-44e4-aabc-2070d1f82c42",
   "metadata": {},
   "source": [
    "The `'AREA NAME'` column contains 21 unique values. These values will be sorted and analysed to identify any discrepancies or duplicates."
   ]
  },
  {
   "cell_type": "code",
   "execution_count": 13,
   "id": "0d67ccb3-3d24-4d34-8884-9c45de9240d3",
   "metadata": {},
   "outputs": [
    {
     "data": {
      "text/plain": [
       "['77th Street',\n",
       " 'Central',\n",
       " 'Devonshire',\n",
       " 'Foothill',\n",
       " 'Harbor',\n",
       " 'Hollenbeck',\n",
       " 'Hollywood',\n",
       " 'Mission',\n",
       " 'N Hollywood',\n",
       " 'Newton',\n",
       " 'Northeast',\n",
       " 'Olympic',\n",
       " 'Pacific',\n",
       " 'Rampart',\n",
       " 'Southeast',\n",
       " 'Southwest',\n",
       " 'Topanga',\n",
       " 'Van Nuys',\n",
       " 'West LA',\n",
       " 'West Valley',\n",
       " 'Wilshire']"
      ]
     },
     "execution_count": 13,
     "metadata": {},
     "output_type": "execute_result"
    }
   ],
   "source": [
    "sorted(df['AREA NAME'].unique())"
   ]
  },
  {
   "cell_type": "markdown",
   "id": "3b447e95-ca53-443e-b29d-10c43244e1ee",
   "metadata": {},
   "source": [
    "#### 'Crm Cd Desc'"
   ]
  },
  {
   "cell_type": "markdown",
   "id": "8db6c1cd-a9f6-4dce-b98e-7ee8db3cacea",
   "metadata": {},
   "source": [
    "The `'Crm Cd Desc'` column contains 104 unique values. These values will be sorted and analysed to identify any discrepancies or duplicates."
   ]
  },
  {
   "cell_type": "code",
   "execution_count": 14,
   "id": "4e335985-daa4-4b93-b259-aca6888cd88b",
   "metadata": {
    "scrolled": true
   },
   "outputs": [
    {
     "data": {
      "text/plain": [
       "['ARSON',\n",
       " 'ASSAULT WITH DEADLY WEAPON ON POLICE OFFICER',\n",
       " 'ASSAULT WITH DEADLY WEAPON, AGGRAVATED ASSAULT',\n",
       " 'ATTEMPTED ROBBERY',\n",
       " 'BATTERY - SIMPLE ASSAULT',\n",
       " 'BATTERY ON A FIREFIGHTER',\n",
       " 'BATTERY POLICE (SIMPLE)',\n",
       " 'BIGAMY',\n",
       " 'BIKE - STOLEN',\n",
       " 'BLOCKING DOOR INDUCTION CENTER',\n",
       " 'BOMB SCARE',\n",
       " 'BRANDISH WEAPON',\n",
       " 'BRIBERY',\n",
       " 'BUNCO, ATTEMPT',\n",
       " 'BUNCO, GRAND THEFT',\n",
       " 'BUNCO, PETTY THEFT',\n",
       " 'BURGLARY',\n",
       " 'BURGLARY FROM VEHICLE',\n",
       " 'BURGLARY FROM VEHICLE, ATTEMPTED',\n",
       " 'BURGLARY, ATTEMPTED',\n",
       " 'CONSPIRACY',\n",
       " 'CONTEMPT OF COURT',\n",
       " 'CONTRIBUTING',\n",
       " 'COUNTERFEIT',\n",
       " 'CREDIT CARDS, FRAUD USE ($950 & UNDER',\n",
       " 'CREDIT CARDS, FRAUD USE ($950.01 & OVER)',\n",
       " 'CRIMINAL HOMICIDE',\n",
       " 'CRIMINAL THREATS - NO WEAPON DISPLAYED',\n",
       " 'CRM AGNST CHLD (13 OR UNDER) (14-15 & SUSP 10 YRS OLDER)',\n",
       " 'CRUELTY TO ANIMALS',\n",
       " 'DEFRAUDING INNKEEPER/THEFT OF SERVICES, $950 & UNDER',\n",
       " 'DEFRAUDING INNKEEPER/THEFT OF SERVICES, OVER $950.01',\n",
       " 'DISCHARGE FIREARMS/SHOTS FIRED',\n",
       " 'DISHONEST EMPLOYEE - GRAND THEFT',\n",
       " 'DISHONEST EMPLOYEE - PETTY THEFT',\n",
       " 'DISHONEST EMPLOYEE ATTEMPTED THEFT',\n",
       " 'DISRUPT SCHOOL',\n",
       " 'DISTURBING THE PEACE',\n",
       " 'DOCUMENT FORGERY / STOLEN FELONY',\n",
       " 'DOCUMENT WORTHLESS ($200 & UNDER)',\n",
       " 'DOCUMENT WORTHLESS ($200.01 & OVER)',\n",
       " 'DRIVING WITHOUT OWNER CONSENT (DWOC)',\n",
       " 'DRUNK ROLL',\n",
       " 'EMBEZZLEMENT, GRAND THEFT ($950.01 & OVER)',\n",
       " 'EMBEZZLEMENT, PETTY THEFT ($950 & UNDER)',\n",
       " 'EXTORTION',\n",
       " 'FAILURE TO YIELD',\n",
       " 'FALSE IMPRISONMENT',\n",
       " 'FALSE POLICE REPORT',\n",
       " 'FIREARMS EMERGENCY PROTECTIVE ORDER (FIREARMS EPO)',\n",
       " 'GRAND THEFT / INSURANCE FRAUD',\n",
       " 'HUMAN TRAFFICKING - INVOLUNTARY SERVITUDE',\n",
       " 'ILLEGAL DUMPING',\n",
       " 'INDECENT EXPOSURE',\n",
       " 'INTIMATE PARTNER - AGGRAVATED ASSAULT',\n",
       " 'INTIMATE PARTNER - SIMPLE ASSAULT',\n",
       " 'KIDNAPPING',\n",
       " 'KIDNAPPING - GRAND ATTEMPT',\n",
       " 'LYNCHING',\n",
       " 'ORAL COPULATION',\n",
       " 'OTHER ASSAULT',\n",
       " 'OTHER MISCELLANEOUS CRIME',\n",
       " 'PANDERING',\n",
       " 'PICKPOCKET',\n",
       " 'PIMPING',\n",
       " 'PROWLER',\n",
       " 'PURSE SNATCHING',\n",
       " 'PURSE SNATCHING - ATTEMPT',\n",
       " 'RECKLESS DRIVING',\n",
       " 'REPLICA FIREARMS(SALE,DISPLAY,MANUFACTURE OR DISTRIBUTE)',\n",
       " 'RESISTING ARREST',\n",
       " 'ROBBERY',\n",
       " 'SHOPLIFTING - ATTEMPT',\n",
       " 'SHOPLIFTING - PETTY THEFT ($950 & UNDER)',\n",
       " 'SHOPLIFTING-GRAND THEFT ($950.01 & OVER)',\n",
       " 'SHOTS FIRED AT INHABITED DWELLING',\n",
       " 'SHOTS FIRED AT MOVING VEHICLE, TRAIN OR AIRCRAFT',\n",
       " 'STALKING',\n",
       " 'TELEPHONE PROPERTY - DAMAGE',\n",
       " 'THEFT FROM MOTOR VEHICLE - ATTEMPT',\n",
       " 'THEFT FROM MOTOR VEHICLE - GRAND ($950.01 AND OVER)',\n",
       " 'THEFT FROM MOTOR VEHICLE - PETTY ($950 & UNDER)',\n",
       " 'THEFT FROM PERSON - ATTEMPT',\n",
       " 'THEFT OF IDENTITY',\n",
       " 'THEFT PLAIN - ATTEMPT',\n",
       " 'THEFT PLAIN - PETTY ($950 & UNDER)',\n",
       " 'THEFT, COIN MACHINE - PETTY ($950 & UNDER)',\n",
       " 'THEFT, PERSON',\n",
       " 'THEFT-GRAND ($950.01 & OVER)EXCPT,GUNS,FOWL,LIVESTK,PROD',\n",
       " 'THREATENING PHONE CALLS/LETTERS',\n",
       " 'THROWING OBJECT AT MOVING VEHICLE',\n",
       " 'TILL TAP - GRAND THEFT ($950.01 & OVER)',\n",
       " 'TILL TAP - PETTY ($950 & UNDER)',\n",
       " 'TRESPASSING',\n",
       " 'UNAUTHORIZED COMPUTER ACCESS',\n",
       " 'VANDALISM - FELONY ($400 & OVER, ALL CHURCH VANDALISMS)',\n",
       " 'VANDALISM - MISDEAMEANOR ($399 OR UNDER)',\n",
       " 'VEHICLE - ATTEMPT STOLEN',\n",
       " 'VEHICLE - STOLEN',\n",
       " 'VEHICLE, STOLEN - OTHER (MOTORIZED SCOOTERS, BIKES, ETC)',\n",
       " 'VIOLATION OF COURT ORDER',\n",
       " 'VIOLATION OF RESTRAINING ORDER',\n",
       " 'VIOLATION OF TEMPORARY RESTRAINING ORDER',\n",
       " 'WEAPONS POSSESSION/BOMBING']"
      ]
     },
     "execution_count": 14,
     "metadata": {},
     "output_type": "execute_result"
    }
   ],
   "source": [
    "sorted(df['Crm Cd Desc'].unique())"
   ]
  },
  {
   "cell_type": "markdown",
   "id": "c37f1439-a948-4e74-ad89-002d75818aee",
   "metadata": {},
   "source": [
    "#### 'Vict Sex'"
   ]
  },
  {
   "cell_type": "markdown",
   "id": "e8116966-3b53-4303-a549-19f78ea2fa55",
   "metadata": {},
   "source": [
    "For the column `'Vict Sex'`, there are 4 unique values, but there should only be 3."
   ]
  },
  {
   "cell_type": "code",
   "execution_count": 15,
   "id": "fb6f34d0-95d0-49db-96c9-3f5008a2a3a5",
   "metadata": {},
   "outputs": [
    {
     "data": {
      "text/plain": [
       "Vict Sex\n",
       "M      93008\n",
       "F      89854\n",
       "X       2812\n",
       "H         30\n",
       "NaN       11\n",
       "Name: count, dtype: int64"
      ]
     },
     "execution_count": 15,
     "metadata": {},
     "output_type": "execute_result"
    }
   ],
   "source": [
    "df['Vict Sex'].value_counts(dropna=False)"
   ]
  },
  {
   "cell_type": "markdown",
   "id": "28ef8dc4-524f-415b-b7b5-a11991b31cc5",
   "metadata": {},
   "source": [
    "There is a 'H' value that is not part of the listed categories and will be recategorised as 'X' (unknown). Any NaN values will be filled with 'X'."
   ]
  },
  {
   "cell_type": "code",
   "execution_count": 16,
   "id": "84172d7c-71a4-4ded-85a2-10884fe30f9f",
   "metadata": {},
   "outputs": [],
   "source": [
    "# Replace any value not in the valid categories with 'X'\n",
    "df['Vict Sex'] = df['Vict Sex'].apply(lambda x: x if x in ['M', 'F', 'X'] else 'X').fillna('X').astype('category')"
   ]
  },
  {
   "cell_type": "markdown",
   "id": "71092d67-7975-472c-84de-767088f1691b",
   "metadata": {},
   "source": [
    "#### 'Vict Descent'"
   ]
  },
  {
   "cell_type": "markdown",
   "id": "ae74d192-7947-4d0e-96cf-493905e86907",
   "metadata": {},
   "source": [
    "Similar to how the 'Vict Sex' column was handled, the 'Vict Descent' column will be categorised based on the described values. Unknown values, values outside the categories, or other invalid entries will be assigned the value 'X'."
   ]
  },
  {
   "cell_type": "code",
   "execution_count": 21,
   "id": "a0adfda3-d743-4e10-86cc-52f8d5a8b1a1",
   "metadata": {},
   "outputs": [
    {
     "data": {
      "text/plain": [
       "Vict Descent\n",
       "H    74128\n",
       "W    44985\n",
       "B    34931\n",
       "O    16331\n",
       "A     5519\n",
       "X     4559\n",
       "K     1389\n",
       "F     1228\n",
       "C     1210\n",
       "J      433\n",
       "V      327\n",
       "I      322\n",
       "Z      145\n",
       "P       83\n",
       "U       54\n",
       "D       21\n",
       "L       20\n",
       "S       16\n",
       "G       14\n",
       "Name: count, dtype: int64"
      ]
     },
     "execution_count": 21,
     "metadata": {},
     "output_type": "execute_result"
    }
   ],
   "source": [
    "df['Vict Descent'].value_counts(dropna=False)"
   ]
  },
  {
   "cell_type": "code",
   "execution_count": 18,
   "id": "370871a7-301f-4f06-b4ca-94cfb571e5af",
   "metadata": {},
   "outputs": [],
   "source": [
    "ethnicity_list = [\n",
    "    'A', 'B', 'C', 'D', 'F', 'G', 'H', 'I', 'J', 'K', 'L', 'O', 'P', 'S', 'U', 'V', 'W', 'X', 'Z'\n",
    "]\n",
    "# Replace any value not in the valid categories with 'X'\n",
    "df['Vict Descent'] = df['Vict Descent'].apply(lambda x: x if x in ethnicity_list else 'X').fillna('X').astype('category')"
   ]
  },
  {
   "cell_type": "markdown",
   "id": "eccf3516-3b1e-4ff2-9fff-67a6a184e369",
   "metadata": {},
   "source": [
    "#### 'Status Desc'\n",
    "\n",
    "Similar to how the 'Vict Sex' or 'Vict Descent' column was handled, the 'Status Desc' column will be categorised based on the values available. Unknown values, values outside the categories, or other invalid entries will be assigned the value 'Unknown'."
   ]
  },
  {
   "cell_type": "code",
   "execution_count": 19,
   "id": "618b5c24-7b8f-47c1-a555-e64490c7b65d",
   "metadata": {},
   "outputs": [
    {
     "data": {
      "text/plain": [
       "Status Desc\n",
       "Invest Cont     153790\n",
       "Adult Other      17722\n",
       "Adult Arrest     13397\n",
       "Juv Arrest         492\n",
       "Juv Other          312\n",
       "UNK                  2\n",
       "Name: count, dtype: int64"
      ]
     },
     "metadata": {},
     "output_type": "display_data"
    }
   ],
   "source": [
    "display(df['Status Desc'].value_counts(dropna=False))"
   ]
  },
  {
   "cell_type": "code",
   "execution_count": 20,
   "id": "18d62a91-1f96-43ed-a2fc-7578f4c14cbf",
   "metadata": {},
   "outputs": [],
   "source": [
    "categories_status = ['Invest Cont', 'Adult Other', 'Adult Arrest', 'Juv Other', 'Juv Arrest']\n",
    "# Replace any value not in the valid categories with 'Unknown'\n",
    "df['Status Desc'] = df['Status Desc'].apply(lambda x: x if x in categories_status else 'Unknown').fillna('Unknown').astype('category')"
   ]
  },
  {
   "cell_type": "markdown",
   "id": "631ba7f5-595e-409a-994d-000fd3e10302",
   "metadata": {},
   "source": [
    "### Comparing raw and cleaned data"
   ]
  },
  {
   "cell_type": "code",
   "execution_count": 23,
   "id": "bfdaa376-61cc-4e68-89c9-8361da0fc520",
   "metadata": {},
   "outputs": [
    {
     "data": {
      "text/html": [
       "<div>\n",
       "<style scoped>\n",
       "    .dataframe tbody tr th:only-of-type {\n",
       "        vertical-align: middle;\n",
       "    }\n",
       "\n",
       "    .dataframe tbody tr th {\n",
       "        vertical-align: top;\n",
       "    }\n",
       "\n",
       "    .dataframe thead th {\n",
       "        text-align: right;\n",
       "    }\n",
       "</style>\n",
       "<table border=\"1\" class=\"dataframe\">\n",
       "  <thead>\n",
       "    <tr style=\"text-align: right;\">\n",
       "      <th></th>\n",
       "      <th>Raw Data</th>\n",
       "      <th>Non-Null Count</th>\n",
       "      <th>Cleaned Data</th>\n",
       "      <th>Non-Null Count</th>\n",
       "    </tr>\n",
       "  </thead>\n",
       "  <tbody>\n",
       "    <tr>\n",
       "      <th>DR_NO</th>\n",
       "      <td>int64</td>\n",
       "      <td>185715.0</td>\n",
       "      <td>object</td>\n",
       "      <td>185715</td>\n",
       "    </tr>\n",
       "    <tr>\n",
       "      <th>Date Rptd</th>\n",
       "      <td>datetime64[ns]</td>\n",
       "      <td>185715.0</td>\n",
       "      <td>datetime64[ns]</td>\n",
       "      <td>185715</td>\n",
       "    </tr>\n",
       "    <tr>\n",
       "      <th>DATE OCC</th>\n",
       "      <td>datetime64[ns]</td>\n",
       "      <td>185715.0</td>\n",
       "      <td>datetime64[ns]</td>\n",
       "      <td>185715</td>\n",
       "    </tr>\n",
       "    <tr>\n",
       "      <th>TIME OCC</th>\n",
       "      <td>object</td>\n",
       "      <td>185715.0</td>\n",
       "      <td>datetime64[ns]</td>\n",
       "      <td>185715</td>\n",
       "    </tr>\n",
       "    <tr>\n",
       "      <th>AREA NAME</th>\n",
       "      <td>object</td>\n",
       "      <td>185715.0</td>\n",
       "      <td>object</td>\n",
       "      <td>185715</td>\n",
       "    </tr>\n",
       "    <tr>\n",
       "      <th>Crm Cd Desc</th>\n",
       "      <td>object</td>\n",
       "      <td>185715.0</td>\n",
       "      <td>object</td>\n",
       "      <td>185715</td>\n",
       "    </tr>\n",
       "    <tr>\n",
       "      <th>Vict Age</th>\n",
       "      <td>int64</td>\n",
       "      <td>185715.0</td>\n",
       "      <td>int64</td>\n",
       "      <td>185715</td>\n",
       "    </tr>\n",
       "    <tr>\n",
       "      <th>Vict Sex</th>\n",
       "      <td>object</td>\n",
       "      <td>185704.0</td>\n",
       "      <td>category</td>\n",
       "      <td>185715</td>\n",
       "    </tr>\n",
       "    <tr>\n",
       "      <th>Vict Descent</th>\n",
       "      <td>object</td>\n",
       "      <td>185705.0</td>\n",
       "      <td>category</td>\n",
       "      <td>185715</td>\n",
       "    </tr>\n",
       "    <tr>\n",
       "      <th>Weapon Desc</th>\n",
       "      <td>object</td>\n",
       "      <td>73502.0</td>\n",
       "      <td>object</td>\n",
       "      <td>73502</td>\n",
       "    </tr>\n",
       "    <tr>\n",
       "      <th>Status Desc</th>\n",
       "      <td>object</td>\n",
       "      <td>185715.0</td>\n",
       "      <td>category</td>\n",
       "      <td>185715</td>\n",
       "    </tr>\n",
       "    <tr>\n",
       "      <th>LOCATION</th>\n",
       "      <td>object</td>\n",
       "      <td>185715.0</td>\n",
       "      <td>object</td>\n",
       "      <td>185715</td>\n",
       "    </tr>\n",
       "    <tr>\n",
       "      <th>victim_ages</th>\n",
       "      <td>NaN</td>\n",
       "      <td>NaN</td>\n",
       "      <td>category</td>\n",
       "      <td>185715</td>\n",
       "    </tr>\n",
       "  </tbody>\n",
       "</table>\n",
       "</div>"
      ],
      "text/plain": [
       "                    Raw Data  Non-Null Count    Cleaned Data  Non-Null Count\n",
       "DR_NO                  int64        185715.0          object          185715\n",
       "Date Rptd     datetime64[ns]        185715.0  datetime64[ns]          185715\n",
       "DATE OCC      datetime64[ns]        185715.0  datetime64[ns]          185715\n",
       "TIME OCC              object        185715.0  datetime64[ns]          185715\n",
       "AREA NAME             object        185715.0          object          185715\n",
       "Crm Cd Desc           object        185715.0          object          185715\n",
       "Vict Age               int64        185715.0           int64          185715\n",
       "Vict Sex              object        185704.0        category          185715\n",
       "Vict Descent          object        185705.0        category          185715\n",
       "Weapon Desc           object         73502.0          object           73502\n",
       "Status Desc           object        185715.0        category          185715\n",
       "LOCATION              object        185715.0          object          185715\n",
       "victim_ages              NaN             NaN        category          185715"
      ]
     },
     "metadata": {},
     "output_type": "display_data"
    },
    {
     "name": "stdout",
     "output_type": "stream",
     "text": [
      "\n",
      "Memory Usage (MB):\n",
      "Raw Data: 96.18 MB\n",
      "Cleaned Data: 68.13 MB\n",
      "\n",
      "Missing Values Comparison:\n",
      "              Raw Data  Cleaned Data\n",
      "Vict Descent      10.0             0\n",
      "Vict Sex          11.0             0\n",
      "Weapon Desc   112213.0        112213\n",
      "\n",
      "Data Type Changes:\n",
      "             Raw Data    Cleaned Data\n",
      "DR_NO           int64          object\n",
      "Status Desc    object        category\n",
      "TIME OCC       object  datetime64[ns]\n",
      "Vict Descent   object        category\n",
      "Vict Sex       object        category\n",
      "victim_ages       NaN        category\n"
     ]
    }
   ],
   "source": [
    "cf.compare_info(crimes, df, df1_name=\"Raw Data\", df2_name=\"Cleaned Data\")\n",
    "\n",
    "# Function to compare memory usage\n",
    "cf.compare_memory_usage(crimes, df)\n",
    "\n",
    "# Function to check missing values\n",
    "print(\"\\nMissing Values Comparison:\")\n",
    "print(cf.compare_missing_values(crimes, df))\n",
    "\n",
    "# Function to compare column data types\n",
    "print(\"\\nData Type Changes:\")\n",
    "print(cf.compare_dtypes(crimes, df))"
   ]
  },
  {
   "cell_type": "markdown",
   "id": "41c83204-6918-49d4-976d-1b2b5a7628e0",
   "metadata": {},
   "source": [
    "### Save cleaned data in a CSV file"
   ]
  },
  {
   "cell_type": "code",
   "execution_count": 24,
   "id": "240fd000-8ddc-4408-ab2f-91fd1de8b428",
   "metadata": {},
   "outputs": [],
   "source": [
    "cleaned_file = os.path.join(CLEANED_DATA_DIR, 'crimes_cleaned.csv')\n",
    "df.to_csv(cleaned_file)"
   ]
  },
  {
   "cell_type": "code",
   "execution_count": null,
   "id": "67d45049-e221-4186-86f5-18bda1b56d02",
   "metadata": {},
   "outputs": [],
   "source": []
  }
 ],
 "metadata": {
  "colab": {
   "name": "Welcome to DataCamp Workspaces.ipynb",
   "provenance": []
  },
  "kernelspec": {
   "display_name": "Python (Data Analysis Base)",
   "language": "python",
   "name": "data_env"
  },
  "language_info": {
   "codemirror_mode": {
    "name": "ipython",
    "version": 3
   },
   "file_extension": ".py",
   "mimetype": "text/x-python",
   "name": "python",
   "nbconvert_exporter": "python",
   "pygments_lexer": "ipython3",
   "version": "3.12.9"
  }
 },
 "nbformat": 4,
 "nbformat_minor": 5
}
